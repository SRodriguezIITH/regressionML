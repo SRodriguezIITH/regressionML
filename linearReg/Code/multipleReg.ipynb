{
 "cells": [
  {
   "cell_type": "code",
   "execution_count": null,
   "id": "207672b4-7752-49b1-a893-e3c312166065",
   "metadata": {},
   "outputs": [],
   "source": [
    "\"\"\"\n",
    "WARNING: DO NOT RUN THIS IN NOTEBOOK. THE BROWSER RAM IS NOT ENOUGH TO EXECUTE THIS. IF YOU HAVE A GOOD RAM IN YOUR LOCAL DEVICE, EXECUTE THIS\n",
    "MULTIPLE REGRESSION IN YOUR LOCAL DEVICE, PREFERABLY IN PyCharm.\n",
    "\"\"\"\n",
    "\n",
    "import numpy as np\n",
    "import pandas as pd\n",
    "from sklearn import linear_model\n",
    "import matplotlib.pyplot as plt\n",
    "\n",
    "logReg = linear_model.LinearRegression()\n",
    "data = pd.read_csv('insurance.csv')\n",
    "test = pd.read_csv('insuranceTest.csv')\n",
    "\n",
    "X = data[['bmi', 'age', 'children']]  # Making X 2-dimensional by using double square brackets\n",
    "y = data['charges']\n",
    "\n",
    "x = test[['bmi', 'age', 'children']]  # Similar adjustment for the test data\n",
    "\n",
    "logReg.fit(X, y)\n",
    "p = logReg.predict(x)\n",
    "\n",
    "for i in p:\n",
    "    print(i)"
   ]
  }
 ],
 "metadata": {
  "kernelspec": {
   "display_name": "Python 3 (ipykernel)",
   "language": "python",
   "name": "python3"
  },
  "language_info": {
   "codemirror_mode": {
    "name": "ipython",
    "version": 3
   },
   "file_extension": ".py",
   "mimetype": "text/x-python",
   "name": "python",
   "nbconvert_exporter": "python",
   "pygments_lexer": "ipython3",
   "version": "3.11.8"
  }
 },
 "nbformat": 4,
 "nbformat_minor": 5
}
