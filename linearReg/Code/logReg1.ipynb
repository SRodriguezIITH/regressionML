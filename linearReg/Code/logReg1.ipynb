{
 "cells": [
  {
   "cell_type": "code",
   "execution_count": null,
   "id": "598bc7ec-77a1-4eed-920c-34456bad8551",
   "metadata": {},
   "outputs": [],
   "source": [
    "import csv\n",
    "\n",
    "import pandas as pd\n",
    "from sklearn import linear_model\n",
    "\n",
    "\n",
    "logReg = linear_model.LogisticRegression()\n",
    "\n",
    "data = pd.read_csv('framingham.csv')\n",
    "test = pd.read_csv('framinghamTest.csv')\n",
    "data.dropna(inplace=True)\n",
    "test.dropna(inplace=True)\n",
    "X = data[['male', 'age', 'cigsPerDay', 'sysBP', 'prevalentStroke', 'totChol']]\n",
    "y = data['TenYearCHD']\n",
    "\n",
    "x = test[['male', 'age', 'cigsPerDay', 'sysBP', 'prevalentStroke', 'totChol']]\n",
    "\n",
    "logReg.fit(X, y)\n",
    "\n",
    "pred = logReg.predict(x)\n",
    "f = open('framinghamOutput.csv', 'w')\n",
    "writer = csv.writer(f)\n",
    "\n",
    "for i in pred:\n",
    "    writer.writerow(str(i))\n",
    "\n",
    "f.close()\n",
    "\n",
    "'''\n",
    "3 True Negative\n",
    "1 True Positive\n",
    "\n",
    "\n",
    "'''\n",
    "\n",
    "\n"
   ]
  }
 ],
 "metadata": {
  "kernelspec": {
   "display_name": "Python 3 (ipykernel)",
   "language": "python",
   "name": "python3"
  },
  "language_info": {
   "codemirror_mode": {
    "name": "ipython",
    "version": 3
   },
   "file_extension": ".py",
   "mimetype": "text/x-python",
   "name": "python",
   "nbconvert_exporter": "python",
   "pygments_lexer": "ipython3",
   "version": "3.11.8"
  }
 },
 "nbformat": 4,
 "nbformat_minor": 5
}
